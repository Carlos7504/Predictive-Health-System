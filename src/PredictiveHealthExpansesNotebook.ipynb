{
 "cells": [
  {
   "cell_type": "code",
   "execution_count": 2,
   "id": "9fff7a34",
   "metadata": {},
   "outputs": [],
   "source": [
    "import pandas as pd\n",
    "import seaborn as sns\n",
    "import matplotlib as mpl\n",
    "from matplotlib import pyplot as plt\n",
    "import numpy as np"
   ]
  },
  {
   "cell_type": "code",
   "execution_count": 3,
   "id": "3fe4ba38",
   "metadata": {},
   "outputs": [],
   "source": [
    "df = pd.read_csv(\"insurance.csv\")"
   ]
  },
  {
   "cell_type": "code",
   "execution_count": 4,
   "id": "276eda9a",
   "metadata": {},
   "outputs": [
    {
     "data": {
      "text/html": [
       "<div>\n",
       "<style scoped>\n",
       "    .dataframe tbody tr th:only-of-type {\n",
       "        vertical-align: middle;\n",
       "    }\n",
       "\n",
       "    .dataframe tbody tr th {\n",
       "        vertical-align: top;\n",
       "    }\n",
       "\n",
       "    .dataframe thead th {\n",
       "        text-align: right;\n",
       "    }\n",
       "</style>\n",
       "<table border=\"1\" class=\"dataframe\">\n",
       "  <thead>\n",
       "    <tr style=\"text-align: right;\">\n",
       "      <th></th>\n",
       "      <th>age</th>\n",
       "      <th>sex</th>\n",
       "      <th>bmi</th>\n",
       "      <th>children</th>\n",
       "      <th>smoker</th>\n",
       "      <th>region</th>\n",
       "      <th>charges</th>\n",
       "    </tr>\n",
       "  </thead>\n",
       "  <tbody>\n",
       "    <tr>\n",
       "      <th>0</th>\n",
       "      <td>19</td>\n",
       "      <td>female</td>\n",
       "      <td>27.900</td>\n",
       "      <td>0</td>\n",
       "      <td>yes</td>\n",
       "      <td>southwest</td>\n",
       "      <td>16884.92400</td>\n",
       "    </tr>\n",
       "    <tr>\n",
       "      <th>1</th>\n",
       "      <td>18</td>\n",
       "      <td>male</td>\n",
       "      <td>33.770</td>\n",
       "      <td>1</td>\n",
       "      <td>no</td>\n",
       "      <td>southeast</td>\n",
       "      <td>1725.55230</td>\n",
       "    </tr>\n",
       "    <tr>\n",
       "      <th>2</th>\n",
       "      <td>28</td>\n",
       "      <td>male</td>\n",
       "      <td>33.000</td>\n",
       "      <td>3</td>\n",
       "      <td>no</td>\n",
       "      <td>southeast</td>\n",
       "      <td>4449.46200</td>\n",
       "    </tr>\n",
       "    <tr>\n",
       "      <th>3</th>\n",
       "      <td>33</td>\n",
       "      <td>male</td>\n",
       "      <td>22.705</td>\n",
       "      <td>0</td>\n",
       "      <td>no</td>\n",
       "      <td>northwest</td>\n",
       "      <td>21984.47061</td>\n",
       "    </tr>\n",
       "    <tr>\n",
       "      <th>4</th>\n",
       "      <td>32</td>\n",
       "      <td>male</td>\n",
       "      <td>28.880</td>\n",
       "      <td>0</td>\n",
       "      <td>no</td>\n",
       "      <td>northwest</td>\n",
       "      <td>3866.85520</td>\n",
       "    </tr>\n",
       "  </tbody>\n",
       "</table>\n",
       "</div>"
      ],
      "text/plain": [
       "   age     sex     bmi  children smoker     region      charges\n",
       "0   19  female  27.900         0    yes  southwest  16884.92400\n",
       "1   18    male  33.770         1     no  southeast   1725.55230\n",
       "2   28    male  33.000         3     no  southeast   4449.46200\n",
       "3   33    male  22.705         0     no  northwest  21984.47061\n",
       "4   32    male  28.880         0     no  northwest   3866.85520"
      ]
     },
     "execution_count": 4,
     "metadata": {},
     "output_type": "execute_result"
    }
   ],
   "source": [
    "df.head()"
   ]
  },
  {
   "cell_type": "code",
   "execution_count": 5,
   "id": "6d34001b",
   "metadata": {},
   "outputs": [
    {
     "name": "stdout",
     "output_type": "stream",
     "text": [
      "<class 'pandas.core.frame.DataFrame'>\n",
      "RangeIndex: 1338 entries, 0 to 1337\n",
      "Data columns (total 7 columns):\n",
      " #   Column    Non-Null Count  Dtype  \n",
      "---  ------    --------------  -----  \n",
      " 0   age       1338 non-null   int64  \n",
      " 1   sex       1338 non-null   object \n",
      " 2   bmi       1338 non-null   float64\n",
      " 3   children  1338 non-null   int64  \n",
      " 4   smoker    1338 non-null   object \n",
      " 5   region    1338 non-null   object \n",
      " 6   charges   1338 non-null   float64\n",
      "dtypes: float64(2), int64(2), object(3)\n",
      "memory usage: 73.3+ KB\n"
     ]
    }
   ],
   "source": [
    "df.info()"
   ]
  },
  {
   "cell_type": "code",
   "execution_count": 6,
   "id": "af707f2c",
   "metadata": {},
   "outputs": [
    {
     "data": {
      "text/html": [
       "<div>\n",
       "<style scoped>\n",
       "    .dataframe tbody tr th:only-of-type {\n",
       "        vertical-align: middle;\n",
       "    }\n",
       "\n",
       "    .dataframe tbody tr th {\n",
       "        vertical-align: top;\n",
       "    }\n",
       "\n",
       "    .dataframe thead th {\n",
       "        text-align: right;\n",
       "    }\n",
       "</style>\n",
       "<table border=\"1\" class=\"dataframe\">\n",
       "  <thead>\n",
       "    <tr style=\"text-align: right;\">\n",
       "      <th></th>\n",
       "      <th>age</th>\n",
       "      <th>bmi</th>\n",
       "      <th>children</th>\n",
       "      <th>charges</th>\n",
       "    </tr>\n",
       "  </thead>\n",
       "  <tbody>\n",
       "    <tr>\n",
       "      <th>count</th>\n",
       "      <td>1338.000000</td>\n",
       "      <td>1338.000000</td>\n",
       "      <td>1338.000000</td>\n",
       "      <td>1338.000000</td>\n",
       "    </tr>\n",
       "    <tr>\n",
       "      <th>mean</th>\n",
       "      <td>39.207025</td>\n",
       "      <td>30.663397</td>\n",
       "      <td>1.094918</td>\n",
       "      <td>13270.422265</td>\n",
       "    </tr>\n",
       "    <tr>\n",
       "      <th>std</th>\n",
       "      <td>14.049960</td>\n",
       "      <td>6.098187</td>\n",
       "      <td>1.205493</td>\n",
       "      <td>12110.011237</td>\n",
       "    </tr>\n",
       "    <tr>\n",
       "      <th>min</th>\n",
       "      <td>18.000000</td>\n",
       "      <td>15.960000</td>\n",
       "      <td>0.000000</td>\n",
       "      <td>1121.873900</td>\n",
       "    </tr>\n",
       "    <tr>\n",
       "      <th>25%</th>\n",
       "      <td>27.000000</td>\n",
       "      <td>26.296250</td>\n",
       "      <td>0.000000</td>\n",
       "      <td>4740.287150</td>\n",
       "    </tr>\n",
       "    <tr>\n",
       "      <th>50%</th>\n",
       "      <td>39.000000</td>\n",
       "      <td>30.400000</td>\n",
       "      <td>1.000000</td>\n",
       "      <td>9382.033000</td>\n",
       "    </tr>\n",
       "    <tr>\n",
       "      <th>75%</th>\n",
       "      <td>51.000000</td>\n",
       "      <td>34.693750</td>\n",
       "      <td>2.000000</td>\n",
       "      <td>16639.912515</td>\n",
       "    </tr>\n",
       "    <tr>\n",
       "      <th>max</th>\n",
       "      <td>64.000000</td>\n",
       "      <td>53.130000</td>\n",
       "      <td>5.000000</td>\n",
       "      <td>63770.428010</td>\n",
       "    </tr>\n",
       "  </tbody>\n",
       "</table>\n",
       "</div>"
      ],
      "text/plain": [
       "               age          bmi     children       charges\n",
       "count  1338.000000  1338.000000  1338.000000   1338.000000\n",
       "mean     39.207025    30.663397     1.094918  13270.422265\n",
       "std      14.049960     6.098187     1.205493  12110.011237\n",
       "min      18.000000    15.960000     0.000000   1121.873900\n",
       "25%      27.000000    26.296250     0.000000   4740.287150\n",
       "50%      39.000000    30.400000     1.000000   9382.033000\n",
       "75%      51.000000    34.693750     2.000000  16639.912515\n",
       "max      64.000000    53.130000     5.000000  63770.428010"
      ]
     },
     "execution_count": 6,
     "metadata": {},
     "output_type": "execute_result"
    }
   ],
   "source": [
    "df.describe()"
   ]
  },
  {
   "cell_type": "code",
   "execution_count": 7,
   "id": "aeb1a7d0",
   "metadata": {},
   "outputs": [
    {
     "data": {
      "text/plain": [
       "age                  54\n",
       "sex              female\n",
       "bmi               47.41\n",
       "children              0\n",
       "smoker              yes\n",
       "region        southeast\n",
       "charges     63770.42801\n",
       "Name: 543, dtype: object"
      ]
     },
     "execution_count": 7,
     "metadata": {},
     "output_type": "execute_result"
    }
   ],
   "source": [
    "##Provavelmente contem outliers\n",
    "df.charges.idxmax()\n",
    "df.loc[543]"
   ]
  },
  {
   "cell_type": "code",
   "execution_count": 8,
   "id": "cfbbda84",
   "metadata": {},
   "outputs": [],
   "source": [
    "from sklearn.preprocessing import LabelEncoder\n",
    "le = LabelEncoder()\n",
    "\n",
    "le.fit(df.smoker)\n",
    "smoker_transformed = le.transform(df.smoker)\n",
    "df['smoker2'] = smoker_transformed\n",
    "\n",
    "le.fit(df.sex)\n",
    "sex_transformed = le.transform(df.sex)\n",
    "df['sex2'] = sex_transformed\n",
    "\n",
    "le.fit(df.region)\n",
    "region_transformed = le.transform(df.region)\n",
    "df['region2'] = region_transformed"
   ]
  },
  {
   "cell_type": "code",
   "execution_count": 9,
   "id": "87d6a036",
   "metadata": {},
   "outputs": [
    {
     "data": {
      "text/html": [
       "<div>\n",
       "<style scoped>\n",
       "    .dataframe tbody tr th:only-of-type {\n",
       "        vertical-align: middle;\n",
       "    }\n",
       "\n",
       "    .dataframe tbody tr th {\n",
       "        vertical-align: top;\n",
       "    }\n",
       "\n",
       "    .dataframe thead th {\n",
       "        text-align: right;\n",
       "    }\n",
       "</style>\n",
       "<table border=\"1\" class=\"dataframe\">\n",
       "  <thead>\n",
       "    <tr style=\"text-align: right;\">\n",
       "      <th></th>\n",
       "      <th>age</th>\n",
       "      <th>sex</th>\n",
       "      <th>bmi</th>\n",
       "      <th>children</th>\n",
       "      <th>smoker</th>\n",
       "      <th>region</th>\n",
       "      <th>charges</th>\n",
       "      <th>smoker2</th>\n",
       "      <th>sex2</th>\n",
       "      <th>region2</th>\n",
       "    </tr>\n",
       "  </thead>\n",
       "  <tbody>\n",
       "    <tr>\n",
       "      <th>0</th>\n",
       "      <td>19</td>\n",
       "      <td>female</td>\n",
       "      <td>27.900</td>\n",
       "      <td>0</td>\n",
       "      <td>yes</td>\n",
       "      <td>southwest</td>\n",
       "      <td>16884.92400</td>\n",
       "      <td>1</td>\n",
       "      <td>0</td>\n",
       "      <td>3</td>\n",
       "    </tr>\n",
       "    <tr>\n",
       "      <th>1</th>\n",
       "      <td>18</td>\n",
       "      <td>male</td>\n",
       "      <td>33.770</td>\n",
       "      <td>1</td>\n",
       "      <td>no</td>\n",
       "      <td>southeast</td>\n",
       "      <td>1725.55230</td>\n",
       "      <td>0</td>\n",
       "      <td>1</td>\n",
       "      <td>2</td>\n",
       "    </tr>\n",
       "    <tr>\n",
       "      <th>2</th>\n",
       "      <td>28</td>\n",
       "      <td>male</td>\n",
       "      <td>33.000</td>\n",
       "      <td>3</td>\n",
       "      <td>no</td>\n",
       "      <td>southeast</td>\n",
       "      <td>4449.46200</td>\n",
       "      <td>0</td>\n",
       "      <td>1</td>\n",
       "      <td>2</td>\n",
       "    </tr>\n",
       "    <tr>\n",
       "      <th>3</th>\n",
       "      <td>33</td>\n",
       "      <td>male</td>\n",
       "      <td>22.705</td>\n",
       "      <td>0</td>\n",
       "      <td>no</td>\n",
       "      <td>northwest</td>\n",
       "      <td>21984.47061</td>\n",
       "      <td>0</td>\n",
       "      <td>1</td>\n",
       "      <td>1</td>\n",
       "    </tr>\n",
       "    <tr>\n",
       "      <th>4</th>\n",
       "      <td>32</td>\n",
       "      <td>male</td>\n",
       "      <td>28.880</td>\n",
       "      <td>0</td>\n",
       "      <td>no</td>\n",
       "      <td>northwest</td>\n",
       "      <td>3866.85520</td>\n",
       "      <td>0</td>\n",
       "      <td>1</td>\n",
       "      <td>1</td>\n",
       "    </tr>\n",
       "  </tbody>\n",
       "</table>\n",
       "</div>"
      ],
      "text/plain": [
       "   age     sex     bmi  children smoker     region      charges  smoker2  \\\n",
       "0   19  female  27.900         0    yes  southwest  16884.92400        1   \n",
       "1   18    male  33.770         1     no  southeast   1725.55230        0   \n",
       "2   28    male  33.000         3     no  southeast   4449.46200        0   \n",
       "3   33    male  22.705         0     no  northwest  21984.47061        0   \n",
       "4   32    male  28.880         0     no  northwest   3866.85520        0   \n",
       "\n",
       "   sex2  region2  \n",
       "0     0        3  \n",
       "1     1        2  \n",
       "2     1        2  \n",
       "3     1        1  \n",
       "4     1        1  "
      ]
     },
     "execution_count": 9,
     "metadata": {},
     "output_type": "execute_result"
    }
   ],
   "source": [
    "df.head()"
   ]
  },
  {
   "cell_type": "code",
   "execution_count": 10,
   "id": "52444f9d",
   "metadata": {},
   "outputs": [],
   "source": [
    "mpl.rcParams['font.size'] = 22\n"
   ]
  },
  {
   "cell_type": "code",
   "execution_count": 11,
   "id": "57fb15a0",
   "metadata": {},
   "outputs": [
    {
     "name": "stderr",
     "output_type": "stream",
     "text": [
      "C:\\Users\\carlo\\anaconda3\\lib\\site-packages\\seaborn\\distributions.py:2619: FutureWarning: `distplot` is a deprecated function and will be removed in a future version. Please adapt your code to use either `displot` (a figure-level function with similar flexibility) or `histplot` (an axes-level function for histograms).\n",
      "  warnings.warn(msg, FutureWarning)\n"
     ]
    },
    {
     "data": {
      "text/plain": [
       "Text(0.5, 0, 'Gastos com saúde (em dólar)')"
      ]
     },
     "execution_count": 11,
     "metadata": {},
     "output_type": "execute_result"
    },
    {
     "data": {
      "image/png": "[encoded data removed]",
      "text/plain": [
       "<Figure size 1080x576 with 1 Axes>"
      ]
     },
     "metadata": {
      "needs_background": "light"
     },
     "output_type": "display_data"
    }
   ],
   "source": [
    "plt.figure(figsize=(15,8))\n",
    "sns.distplot(df.charges)\n",
    "plt.xlabel(\"Gastos com saúde (em dólar)\")"
   ]
  },
  {
   "cell_type": "code",
   "execution_count": 12,
   "id": "d0100545",
   "metadata": {},
   "outputs": [
    {
     "name": "stderr",
     "output_type": "stream",
     "text": [
      "C:\\Users\\carlo\\anaconda3\\lib\\site-packages\\seaborn\\_decorators.py:36: FutureWarning: Pass the following variable as a keyword arg: x. From version 0.12, the only valid positional argument will be `data`, and passing other arguments without an explicit keyword will result in an error or misinterpretation.\n",
      "  warnings.warn(\n"
     ]
    },
    {
     "data": {
      "text/plain": [
       "Text(0.5, 0, 'Gastos com saúde (em dólar)')"
      ]
     },
     "execution_count": 12,
     "metadata": {},
     "output_type": "execute_result"
    },
    {
     "data": {
      "image/png": "[encoded data removed]",
      "text/plain": [
       "<Figure size 1080x576 with 1 Axes>"
      ]
     },
     "metadata": {
      "needs_background": "light"
     },
     "output_type": "display_data"
    }
   ],
   "source": [
    "plt.figure(figsize=(15,8))\n",
    "sns.boxplot(df.charges)\n",
    "plt.xlabel(\"Gastos com saúde (em dólar)\")"
   ]
  },
  {
   "cell_type": "code",
   "execution_count": 13,
   "id": "eb6b0175",
   "metadata": {},
   "outputs": [
    {
     "name": "stdout",
     "output_type": "stream",
     "text": [
      "O numero de pessoas que pagam mais de 15000 é de 162\n"
     ]
    },
    {
     "data": {
      "text/plain": [
       "(1176, 10)"
      ]
     },
     "execution_count": 13,
     "metadata": {},
     "output_type": "execute_result"
    }
   ],
   "source": [
    "df_query = df.query('charges < 30000')\n",
    "print(f\"O numero de pessoas que pagam mais de 15000 é de {df.shape[0] - df_query.shape[0]}\")\n",
    "df_query.shape"
   ]
  },
  {
   "cell_type": "code",
   "execution_count": 14,
   "id": "80f61fa7",
   "metadata": {},
   "outputs": [
    {
     "name": "stderr",
     "output_type": "stream",
     "text": [
      "C:\\Users\\carlo\\anaconda3\\lib\\site-packages\\seaborn\\_decorators.py:36: FutureWarning: Pass the following variable as a keyword arg: x. From version 0.12, the only valid positional argument will be `data`, and passing other arguments without an explicit keyword will result in an error or misinterpretation.\n",
      "  warnings.warn(\n"
     ]
    },
    {
     "data": {
      "text/plain": [
       "<AxesSubplot:xlabel='charges'>"
      ]
     },
     "execution_count": 14,
     "metadata": {},
     "output_type": "execute_result"
    },
    {
     "data": {
      "image/png": "[encoded data removed]",
      "text/plain": [
       "<Figure size 1080x576 with 1 Axes>"
      ]
     },
     "metadata": {
      "needs_background": "light"
     },
     "output_type": "display_data"
    }
   ],
   "source": [
    "plt.figure(figsize=(15,8))\n",
    "sns.boxplot(df_query.charges)"
   ]
  },
  {
   "cell_type": "code",
   "execution_count": 15,
   "id": "b2bcd2a9",
   "metadata": {},
   "outputs": [
    {
     "name": "stderr",
     "output_type": "stream",
     "text": [
      "C:\\Users\\carlo\\anaconda3\\lib\\site-packages\\seaborn\\distributions.py:2619: FutureWarning: `distplot` is a deprecated function and will be removed in a future version. Please adapt your code to use either `displot` (a figure-level function with similar flexibility) or `histplot` (an axes-level function for histograms).\n",
      "  warnings.warn(msg, FutureWarning)\n"
     ]
    },
    {
     "data": {
      "text/plain": [
       "Text(0.5, 1.0, 'Custos')"
      ]
     },
     "execution_count": 15,
     "metadata": {},
     "output_type": "execute_result"
    },
    {
     "data": {
      "image/png": "[encoded data removed]",
      "text/plain": [
       "<Figure size 1080x576 with 1 Axes>"
      ]
     },
     "metadata": {
      "needs_background": "light"
     },
     "output_type": "display_data"
    }
   ],
   "source": [
    "plt.figure(figsize=(15,8))\n",
    "sns.distplot(df_query.charges)\n",
    "plt.title(\"Custos\")"
   ]
  },
  {
   "cell_type": "code",
   "execution_count": 16,
   "id": "46c9493e",
   "metadata": {},
   "outputs": [
    {
     "name": "stderr",
     "output_type": "stream",
     "text": [
      "C:\\Users\\carlo\\AppData\\Local\\Temp/ipykernel_5752/2537764483.py:1: SettingWithCopyWarning: \n",
      "A value is trying to be set on a copy of a slice from a DataFrame.\n",
      "Try using .loc[row_indexer,col_indexer] = value instead\n",
      "\n",
      "See the caveats in the documentation: https://pandas.pydata.org/pandas-docs/stable/user_guide/indexing.html#returning-a-view-versus-a-copy\n",
      "  df_query[\"charges_log\"] = np.log(df_query.charges)\n"
     ]
    }
   ],
   "source": [
    "df_query[\"charges_log\"] = np.log(df_query.charges)"
   ]
  },
  {
   "cell_type": "code",
   "execution_count": 17,
   "id": "d72e9448",
   "metadata": {},
   "outputs": [
    {
     "name": "stderr",
     "output_type": "stream",
     "text": [
      "C:\\Users\\carlo\\anaconda3\\lib\\site-packages\\seaborn\\distributions.py:2619: FutureWarning: `distplot` is a deprecated function and will be removed in a future version. Please adapt your code to use either `displot` (a figure-level function with similar flexibility) or `histplot` (an axes-level function for histograms).\n",
      "  warnings.warn(msg, FutureWarning)\n"
     ]
    },
    {
     "data": {
      "text/plain": [
       "Text(0.5, 1.0, 'Custos')"
      ]
     },
     "execution_count": 17,
     "metadata": {},
     "output_type": "execute_result"
    },
    {
     "data": {
      "image/png": "[encoded data removed]",
      "text/plain": [
       "<Figure size 1080x576 with 1 Axes>"
      ]
     },
     "metadata": {
      "needs_background": "light"
     },
     "output_type": "display_data"
    }
   ],
   "source": [
    "plt.figure(figsize=(15,8))\n",
    "sns.distplot(df_query.charges_log)\n",
    "plt.title(\"Custos\")"
   ]
  },
  {
   "cell_type": "code",
   "execution_count": 18,
   "id": "46ea5966",
   "metadata": {},
   "outputs": [],
   "source": [
    "df2 = df_query.drop([\"sex\", \"smoker\", \"region\"], axis = 1)"
   ]
  },
  {
   "cell_type": "code",
   "execution_count": 19,
   "id": "8d8799ff",
   "metadata": {},
   "outputs": [
    {
     "data": {
      "text/html": [
       "<div>\n",
       "<style scoped>\n",
       "    .dataframe tbody tr th:only-of-type {\n",
       "        vertical-align: middle;\n",
       "    }\n",
       "\n",
       "    .dataframe tbody tr th {\n",
       "        vertical-align: top;\n",
       "    }\n",
       "\n",
       "    .dataframe thead th {\n",
       "        text-align: right;\n",
       "    }\n",
       "</style>\n",
       "<table border=\"1\" class=\"dataframe\">\n",
       "  <thead>\n",
       "    <tr style=\"text-align: right;\">\n",
       "      <th></th>\n",
       "      <th>age</th>\n",
       "      <th>bmi</th>\n",
       "      <th>children</th>\n",
       "      <th>charges</th>\n",
       "      <th>smoker2</th>\n",
       "      <th>sex2</th>\n",
       "      <th>region2</th>\n",
       "      <th>charges_log</th>\n",
       "    </tr>\n",
       "  </thead>\n",
       "  <tbody>\n",
       "    <tr>\n",
       "      <th>0</th>\n",
       "      <td>19</td>\n",
       "      <td>27.900</td>\n",
       "      <td>0</td>\n",
       "      <td>16884.92400</td>\n",
       "      <td>1</td>\n",
       "      <td>0</td>\n",
       "      <td>3</td>\n",
       "      <td>9.734176</td>\n",
       "    </tr>\n",
       "    <tr>\n",
       "      <th>1</th>\n",
       "      <td>18</td>\n",
       "      <td>33.770</td>\n",
       "      <td>1</td>\n",
       "      <td>1725.55230</td>\n",
       "      <td>0</td>\n",
       "      <td>1</td>\n",
       "      <td>2</td>\n",
       "      <td>7.453302</td>\n",
       "    </tr>\n",
       "    <tr>\n",
       "      <th>2</th>\n",
       "      <td>28</td>\n",
       "      <td>33.000</td>\n",
       "      <td>3</td>\n",
       "      <td>4449.46200</td>\n",
       "      <td>0</td>\n",
       "      <td>1</td>\n",
       "      <td>2</td>\n",
       "      <td>8.400538</td>\n",
       "    </tr>\n",
       "    <tr>\n",
       "      <th>3</th>\n",
       "      <td>33</td>\n",
       "      <td>22.705</td>\n",
       "      <td>0</td>\n",
       "      <td>21984.47061</td>\n",
       "      <td>0</td>\n",
       "      <td>1</td>\n",
       "      <td>1</td>\n",
       "      <td>9.998092</td>\n",
       "    </tr>\n",
       "    <tr>\n",
       "      <th>4</th>\n",
       "      <td>32</td>\n",
       "      <td>28.880</td>\n",
       "      <td>0</td>\n",
       "      <td>3866.85520</td>\n",
       "      <td>0</td>\n",
       "      <td>1</td>\n",
       "      <td>1</td>\n",
       "      <td>8.260197</td>\n",
       "    </tr>\n",
       "  </tbody>\n",
       "</table>\n",
       "</div>"
      ],
      "text/plain": [
       "   age     bmi  children      charges  smoker2  sex2  region2  charges_log\n",
       "0   19  27.900         0  16884.92400        1     0        3     9.734176\n",
       "1   18  33.770         1   1725.55230        0     1        2     7.453302\n",
       "2   28  33.000         3   4449.46200        0     1        2     8.400538\n",
       "3   33  22.705         0  21984.47061        0     1        1     9.998092\n",
       "4   32  28.880         0   3866.85520        0     1        1     8.260197"
      ]
     },
     "execution_count": 19,
     "metadata": {},
     "output_type": "execute_result"
    }
   ],
   "source": [
    "df2.head()"
   ]
  },
  {
   "cell_type": "code",
   "execution_count": 20,
   "id": "2af65411",
   "metadata": {},
   "outputs": [
    {
     "data": {
      "text/html": [
       "<div>\n",
       "<style scoped>\n",
       "    .dataframe tbody tr th:only-of-type {\n",
       "        vertical-align: middle;\n",
       "    }\n",
       "\n",
       "    .dataframe tbody tr th {\n",
       "        vertical-align: top;\n",
       "    }\n",
       "\n",
       "    .dataframe thead th {\n",
       "        text-align: right;\n",
       "    }\n",
       "</style>\n",
       "<table border=\"1\" class=\"dataframe\">\n",
       "  <thead>\n",
       "    <tr style=\"text-align: right;\">\n",
       "      <th></th>\n",
       "      <th>age</th>\n",
       "      <th>bmi</th>\n",
       "      <th>children</th>\n",
       "      <th>charges</th>\n",
       "      <th>smoker2</th>\n",
       "      <th>sex2</th>\n",
       "      <th>region2</th>\n",
       "      <th>charges_log</th>\n",
       "    </tr>\n",
       "  </thead>\n",
       "  <tbody>\n",
       "    <tr>\n",
       "      <th>age</th>\n",
       "      <td>1.000000</td>\n",
       "      <td>0.122240</td>\n",
       "      <td>0.025965</td>\n",
       "      <td>0.513973</td>\n",
       "      <td>-0.037812</td>\n",
       "      <td>-0.022058</td>\n",
       "      <td>0.010188</td>\n",
       "      <td>0.676431</td>\n",
       "    </tr>\n",
       "    <tr>\n",
       "      <th>bmi</th>\n",
       "      <td>0.122240</td>\n",
       "      <td>1.000000</td>\n",
       "      <td>0.003858</td>\n",
       "      <td>-0.079617</td>\n",
       "      <td>-0.270649</td>\n",
       "      <td>0.028209</td>\n",
       "      <td>0.153544</td>\n",
       "      <td>-0.039623</td>\n",
       "    </tr>\n",
       "    <tr>\n",
       "      <th>children</th>\n",
       "      <td>0.025965</td>\n",
       "      <td>0.003858</td>\n",
       "      <td>1.000000</td>\n",
       "      <td>0.098983</td>\n",
       "      <td>0.003734</td>\n",
       "      <td>0.011596</td>\n",
       "      <td>0.023878</td>\n",
       "      <td>0.196744</td>\n",
       "    </tr>\n",
       "    <tr>\n",
       "      <th>charges</th>\n",
       "      <td>0.513973</td>\n",
       "      <td>-0.079617</td>\n",
       "      <td>0.098983</td>\n",
       "      <td>1.000000</td>\n",
       "      <td>0.572800</td>\n",
       "      <td>-0.042633</td>\n",
       "      <td>-0.081153</td>\n",
       "      <td>0.920986</td>\n",
       "    </tr>\n",
       "    <tr>\n",
       "      <th>smoker2</th>\n",
       "      <td>-0.037812</td>\n",
       "      <td>-0.270649</td>\n",
       "      <td>0.003734</td>\n",
       "      <td>0.572800</td>\n",
       "      <td>1.000000</td>\n",
       "      <td>0.008682</td>\n",
       "      <td>-0.048271</td>\n",
       "      <td>0.447336</td>\n",
       "    </tr>\n",
       "    <tr>\n",
       "      <th>sex2</th>\n",
       "      <td>-0.022058</td>\n",
       "      <td>0.028209</td>\n",
       "      <td>0.011596</td>\n",
       "      <td>-0.042633</td>\n",
       "      <td>0.008682</td>\n",
       "      <td>1.000000</td>\n",
       "      <td>0.003872</td>\n",
       "      <td>-0.070141</td>\n",
       "    </tr>\n",
       "    <tr>\n",
       "      <th>region2</th>\n",
       "      <td>0.010188</td>\n",
       "      <td>0.153544</td>\n",
       "      <td>0.023878</td>\n",
       "      <td>-0.081153</td>\n",
       "      <td>-0.048271</td>\n",
       "      <td>0.003872</td>\n",
       "      <td>1.000000</td>\n",
       "      <td>-0.086978</td>\n",
       "    </tr>\n",
       "    <tr>\n",
       "      <th>charges_log</th>\n",
       "      <td>0.676431</td>\n",
       "      <td>-0.039623</td>\n",
       "      <td>0.196744</td>\n",
       "      <td>0.920986</td>\n",
       "      <td>0.447336</td>\n",
       "      <td>-0.070141</td>\n",
       "      <td>-0.086978</td>\n",
       "      <td>1.000000</td>\n",
       "    </tr>\n",
       "  </tbody>\n",
       "</table>\n",
       "</div>"
      ],
      "text/plain": [
       "                  age       bmi  children   charges   smoker2      sex2  \\\n",
       "age          1.000000  0.122240  0.025965  0.513973 -0.037812 -0.022058   \n",
       "bmi          0.122240  1.000000  0.003858 -0.079617 -0.270649  0.028209   \n",
       "children     0.025965  0.003858  1.000000  0.098983  0.003734  0.011596   \n",
       "charges      0.513973 -0.079617  0.098983  1.000000  0.572800 -0.042633   \n",
       "smoker2     -0.037812 -0.270649  0.003734  0.572800  1.000000  0.008682   \n",
       "sex2        -0.022058  0.028209  0.011596 -0.042633  0.008682  1.000000   \n",
       "region2      0.010188  0.153544  0.023878 -0.081153 -0.048271  0.003872   \n",
       "charges_log  0.676431 -0.039623  0.196744  0.920986  0.447336 -0.070141   \n",
       "\n",
       "              region2  charges_log  \n",
       "age          0.010188     0.676431  \n",
       "bmi          0.153544    -0.039623  \n",
       "children     0.023878     0.196744  \n",
       "charges     -0.081153     0.920986  \n",
       "smoker2     -0.048271     0.447336  \n",
       "sex2         0.003872    -0.070141  \n",
       "region2      1.000000    -0.086978  \n",
       "charges_log -0.086978     1.000000  "
      ]
     },
     "execution_count": 20,
     "metadata": {},
     "output_type": "execute_result"
    }
   ],
   "source": [
    "df2.corr()"
   ]
  },
  {
   "cell_type": "code",
   "execution_count": 21,
   "id": "a868b237",
   "metadata": {},
   "outputs": [
    {
     "data": {
      "text/plain": [
       "<AxesSubplot:>"
      ]
     },
     "execution_count": 21,
     "metadata": {},
     "output_type": "execute_result"
    },
    {
     "data": {
      "image/png": "[encoded data removed]",
      "text/plain": [
       "<Figure size 432x288 with 1 Axes>"
      ]
     },
     "metadata": {
      "needs_background": "light"
     },
     "output_type": "display_data"
    }
   ],
   "source": [
    "df2.bmi.hist()"
   ]
  },
  {
   "cell_type": "code",
   "execution_count": 22,
   "id": "ea9e47cf",
   "metadata": {},
   "outputs": [
    {
     "data": {
      "text/plain": [
       "southeast    303\n",
       "northwest    296\n",
       "northeast    289\n",
       "southwest    288\n",
       "Name: region, dtype: int64"
      ]
     },
     "execution_count": 22,
     "metadata": {},
     "output_type": "execute_result"
    }
   ],
   "source": [
    "df_query.region.value_counts()"
   ]
  },
  {
   "cell_type": "code",
   "execution_count": 23,
   "id": "f46c0eac",
   "metadata": {},
   "outputs": [
    {
     "data": {
      "text/plain": [
       "<AxesSubplot:>"
      ]
     },
     "execution_count": 23,
     "metadata": {},
     "output_type": "execute_result"
    },
    {
     "data": {
      "image/png": "[encoded data removed]",
      "text/plain": [
       "<Figure size 432x288 with 1 Axes>"
      ]
     },
     "metadata": {
      "needs_background": "light"
     },
     "output_type": "display_data"
    }
   ],
   "source": [
    "#A região não parece ser um fator muito impactante para o modelo\n",
    "df2.region2.hist()"
   ]
  },
  {
   "cell_type": "code",
   "execution_count": 24,
   "id": "839b92d4",
   "metadata": {},
   "outputs": [],
   "source": [
    "from sklearn.model_selection import train_test_split\n",
    "X = df2.drop([\"charges\",\"charges_log\", \"region2\"], axis = 1)\n",
    "x = X\n",
    "y= df2.charges_log"
   ]
  },
  {
   "cell_type": "code",
   "execution_count": 25,
   "id": "ed20be06",
   "metadata": {},
   "outputs": [],
   "source": [
    "from sklearn.preprocessing import PolynomialFeatures\n",
    "poly = PolynomialFeatures(2)\n",
    "X_poly = poly.fit_transform(X)\n",
    "X.shape\n",
    "X_train_pf,X_test_pf,y_train_pf,  y_test_pf = train_test_split(X_poly, y, test_size = 0.2, random_state = 25)"
   ]
  },
  {
   "cell_type": "code",
   "execution_count": 26,
   "id": "4d6b37f2",
   "metadata": {},
   "outputs": [],
   "source": [
    "X_train_pf,X_test_pf,y_train_pf,  y_test_pf = train_test_split(X_poly, y, test_size = 0.2, random_state = 25)"
   ]
  },
  {
   "cell_type": "code",
   "execution_count": 27,
   "id": "4e438fbc",
   "metadata": {},
   "outputs": [],
   "source": [
    "x_train, x_test, Y_train, Y_test = train_test_split(x, y, test_size = 0.2, random_state = 25)"
   ]
  },
  {
   "cell_type": "code",
   "execution_count": 28,
   "id": "2cc071fb",
   "metadata": {},
   "outputs": [],
   "source": [
    "from sklearn.linear_model import LinearRegression\n",
    "lr = LinearRegression()\n",
    "lr.fit(X_train_pf, y_train_pf)\n",
    "pred = lr.predict(X_test_pf)"
   ]
  },
  {
   "cell_type": "code",
   "execution_count": 29,
   "id": "ae1c5f8b",
   "metadata": {},
   "outputs": [],
   "source": [
    "from sklearn.ensemble import RandomForestRegressor\n",
    "RFR = RandomForestRegressor(n_estimators = 1000, min_samples_split=12,min_samples_leaf=10,\n",
    "                           random_state=25)\n",
    "RFR.fit(x_train, Y_train)\n",
    "pred2 = RFR.predict(x_test)"
   ]
  },
  {
   "cell_type": "code",
   "execution_count": 30,
   "id": "4a4266df",
   "metadata": {},
   "outputs": [],
   "source": [
    "from sklearn.linear_model import Lasso\n",
    "lasso = Lasso(alpha = 0.2, max_iter = 100000, random_state = 25, copy_X = False, selection = 'random',\n",
    "             tol = 2e-3)\n",
    "lasso.fit(X_train_pf, y_train_pf)\n",
    "pred3 = lasso.predict(X_test_pf)"
   ]
  },
  {
   "cell_type": "code",
   "execution_count": 31,
   "id": "5b8a9659",
   "metadata": {},
   "outputs": [],
   "source": [
    "import xgboost as xg\n",
    "train_dmatrix = xg.DMatrix(data = x_train, label = Y_train)\n",
    "test_dmatrix = xg.DMatrix(data =x_test, label = Y_test)\n",
    "param = {\"booster\":\"dart\", \"normalize_type\":\"tree\",\n",
    "        \"eta\":\"0.4\", \"lambda\": \"2\", \"gamma\":\"0\", \"alpha\": \"1\", \"tree_method\":\"hist\", 'max_depth': \"20\",\n",
    "        \"min_child_weight\":\"5\", 'learning_rate':'0.4', \"min_child_weight\":\"5\", \n",
    "         \"grow_policy\":\"lossguide\", \"max_bin\":\"100\", \"max_leaves\":\"300\"}\n",
    "xgb_r = xg.train(params = param, dtrain = train_dmatrix, num_boost_round =11)\n",
    "pred4 = xgb_r.predict(test_dmatrix)"
   ]
  },
  {
   "cell_type": "code",
   "execution_count": 32,
   "id": "065d9b80",
   "metadata": {},
   "outputs": [],
   "source": [
    "import pickle\n",
    "with open('PHS_linearRegression.pkl', 'wb') as file:\n",
    "    pickle.dump(lr, file)"
   ]
  },
  {
   "cell_type": "code",
   "execution_count": 37,
   "id": "aac6ef75",
   "metadata": {},
   "outputs": [],
   "source": [
    "with open('PHS_RandomForest.pkl', 'wb') as file:\n",
    "    pickle.dump(RFR, file)"
   ]
  },
  {
   "cell_type": "code",
   "execution_count": 33,
   "id": "d2ec5859",
   "metadata": {
    "scrolled": true
   },
   "outputs": [
    {
     "name": "stdout",
     "output_type": "stream",
     "text": [
      "O score do modelo de floresta de decisão é de 0.8037123737175691\n"
     ]
    }
   ],
   "source": [
    "from sklearn.metrics import r2_score\n",
    "print(f\"O score do modelo de floresta de decisão é de {r2_score(pred2, Y_test)}\")"
   ]
  },
  {
   "cell_type": "code",
   "execution_count": 34,
   "id": "ff4b7418",
   "metadata": {
    "scrolled": true
   },
   "outputs": [
    {
     "name": "stdout",
     "output_type": "stream",
     "text": [
      "Feature 0: 1, Score: 0.00000\n",
      "Feature 1: age, Score: 0.05885\n",
      "Feature 2: bmi, Score: 0.03326\n",
      "Feature 3: children, Score: 0.41219\n",
      "Feature 4: smoker2, Score: 0.98298\n",
      "Feature 5: sex2, Score: -0.12426\n",
      "Feature 6: age^2, Score: -0.00020\n",
      "Feature 7: age bmi, Score: -0.00002\n",
      "Feature 8: age children, Score: -0.00535\n",
      "Feature 9: age smoker2, Score: -0.02931\n",
      "Feature 10: age sex2, Score: 0.00476\n",
      "Feature 11: bmi^2, Score: -0.00049\n",
      "Feature 12: bmi children, Score: -0.00051\n",
      "Feature 13: bmi smoker2, Score: 0.01755\n",
      "Feature 14: bmi sex2, Score: -0.00185\n",
      "Feature 15: children^2, Score: -0.02124\n",
      "Feature 16: children smoker2, Score: -0.13058\n",
      "Feature 17: children sex2, Score: 0.00976\n",
      "Feature 18: smoker2^2, Score: 0.98298\n",
      "Feature 19: smoker2 sex2, Score: 0.05769\n",
      "Feature 20: sex2^2, Score: -0.12426\n"
     ]
    }
   ],
   "source": [
    "import matplotlib.pyplot as plt\n",
    "importance = lr.coef_\n",
    "for i,v in enumerate(importance):\n",
    "    print('Feature %d: %s, Score: %.5f' % (i, poly.get_feature_names(X.columns)[i], v))\n",
    "\n"
   ]
  },
  {
   "cell_type": "code",
   "execution_count": null,
   "id": "46233f95",
   "metadata": {},
   "outputs": [],
   "source": []
  },
  {
   "cell_type": "code",
   "execution_count": 35,
   "id": "a4fd2616",
   "metadata": {},
   "outputs": [],
   "source": [
    "import seaborn as sns\n",
    "import matplotlib as mpl\n",
    "mpl.rcParams['figure.figsize'] = (10, 6)\n",
    "mpl.rcParams['font.size'] = 22\n",
    "mpl.rcParams['axes.labelcolor'] = 'white'\n",
    "mpl.rcParams['xtick.color'] = 'white'\n",
    "mpl.rcParams['ytick.color'] = 'white'"
   ]
  },
  {
   "cell_type": "code",
   "execution_count": 36,
   "id": "980d8ccd",
   "metadata": {},
   "outputs": [
    {
     "name": "stdout",
     "output_type": "stream",
     "text": [
      "Feature 0: age, Score: 0.61647\n",
      "Feature 1: bmi, Score: 0.02420\n",
      "Feature 2: children, Score: 0.07410\n",
      "Feature 3: smoker2, Score: 0.27474\n",
      "Feature 4: sex2, Score: 0.01049\n"
     ]
    },
    {
     "name": "stderr",
     "output_type": "stream",
     "text": [
      "C:\\Users\\carlo\\anaconda3\\lib\\site-packages\\seaborn\\_decorators.py:36: FutureWarning: Pass the following variables as keyword args: x, y. From version 0.12, the only valid positional argument will be `data`, and passing other arguments without an explicit keyword will result in an error or misinterpretation.\n",
      "  warnings.warn(\n"
     ]
    },
    {
     "data": {
      "text/plain": [
       "Text(0.5, 1.0, 'Feature importance Random Forest Regressor')"
      ]
     },
     "execution_count": 36,
     "metadata": {},
     "output_type": "execute_result"
    },
    {
     "data": {
      "image/png": "[encoded data removed]",
      "text/plain": [
       "<Figure size 1080x576 with 1 Axes>"
      ]
     },
     "metadata": {
      "needs_background": "dark"
     },
     "output_type": "display_data"
    }
   ],
   "source": [
    "importance = RFR.feature_importances_\n",
    "for i,v in enumerate(importance):\n",
    "    print('Feature %d: %0s, Score: %.5f' % (i, x.columns[i],v))\n",
    "plt.figure(figsize=(15,8))\n",
    "sns.barplot([x for x in range(len(importance))], importance)\n",
    "plt.title(\"Feature importance Random Forest Regressor\")\n"
   ]
  },
  {
   "cell_type": "code",
   "execution_count": null,
   "id": "9d273ac4",
   "metadata": {},
   "outputs": [],
   "source": []
  }
 ],
 "metadata": {
  "kernelspec": {
   "display_name": "Python 3 (ipykernel)",
   "language": "python",
   "name": "python3"
  },
  "language_info": {
   "codemirror_mode": {
    "name": "ipython",
    "version": 3
   },
   "file_extension": ".py",
   "mimetype": "text/x-python",
   "name": "python",
   "nbconvert_exporter": "python",
   "pygments_lexer": "ipython3",
   "version": "3.9.7"
  }
 },
 "nbformat": 4,
 "nbformat_minor": 5
}
